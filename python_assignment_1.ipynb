{
  "cells": [
    {
      "cell_type": "markdown",
      "metadata": {
        "id": "view-in-github",
        "colab_type": "text"
      },
      "source": [
        "<a href=\"https://colab.research.google.com/github/TharunPranavM/python-codes/blob/main/python_assignment_1.ipynb\" target=\"_parent\"><img src=\"https://colab.research.google.com/assets/colab-badge.svg\" alt=\"Open In Colab\"/></a>"
      ]
    },
    {
      "cell_type": "code",
      "execution_count": null,
      "metadata": {
        "colab": {
          "base_uri": "https://localhost:8080/"
        },
        "id": "Lq_e2lB9ZA0M",
        "outputId": "5ab82d4f-30d0-4d18-a5b6-ab108b4a1ad9"
      },
      "outputs": [
        {
          "output_type": "stream",
          "name": "stdout",
          "text": [
            "enter a number:212\n",
            " the num is even\n"
          ]
        }
      ],
      "source": [
        "# question 1\n",
        "# selection and iteration operators\n",
        "# selection operator\n",
        "num = int(input('enter a number:'))\n",
        "if num%2 == 0 :\n",
        "  print (' the num is even')\n",
        "else :\n",
        "  print ('the num is odd')"
      ]
    },
    {
      "cell_type": "code",
      "execution_count": null,
      "metadata": {
        "colab": {
          "base_uri": "https://localhost:8080/"
        },
        "id": "9ljkMcFbLz0G",
        "outputId": "856f8ec0-34f3-4ae7-ecce-e5cfd4f105ad"
      },
      "outputs": [
        {
          "output_type": "stream",
          "name": "stdout",
          "text": [
            "enter a num:2\n",
            "0\n",
            "1\n",
            "2\n",
            "2 3 4\n",
            "Sum: 9\n"
          ]
        }
      ],
      "source": [
        "#iteration operators - while and for\n",
        "num = int(input('enter a num:'))\n",
        "count = 0\n",
        "while count <= num:\n",
        "    print(count)\n",
        "    count += 1\n",
        "\n",
        "numbers = list(map(int , input().split()))\n",
        "sum = 0\n",
        "\n",
        "for num in numbers:\n",
        "    sum += num\n",
        "\n",
        "print(\"Sum:\", sum)"
      ]
    },
    {
      "cell_type": "code",
      "execution_count": null,
      "metadata": {
        "colab": {
          "base_uri": "https://localhost:8080/"
        },
        "id": "V8sc-HcxNcSy",
        "outputId": "ce18baaf-3f7f-406e-a4a7-4581974ee9d5"
      },
      "outputs": [
        {
          "output_type": "stream",
          "name": "stdout",
          "text": [
            "Enter a number: 212\n",
            "The number is a palindrome.\n"
          ]
        }
      ],
      "source": [
        "# question 2\n",
        "# odd or even\n",
        "num2 = int(input(\"Enter a number: \"))\n",
        "if num2 % 2 == 0 :\n",
        "  new = 0\n",
        "  real =num2\n",
        "  while num2 > 0:\n",
        "        digit = num2 % 10\n",
        "        new = new * 10 + digit\n",
        "        num2 = num2 // 10\n",
        "  if real == new:\n",
        "      print(\"The number is a palindrome.\")\n",
        "  else:\n",
        "      print(\"The number is not a palindrome.\")\n",
        "else :\n",
        "  a=0\n",
        "  b=1\n",
        "  count1 = 0\n",
        "  while count1 <= num2:\n",
        "    c = a+b\n",
        "    a = b\n",
        "    b = c\n",
        "    count1 += 1\n",
        "  print ('the factorial:',c)\n",
        "  print ('number digit factorial:',len(str(c)))\n",
        "\n",
        "\n"
      ]
    },
    {
      "cell_type": "code",
      "execution_count": null,
      "metadata": {
        "colab": {
          "base_uri": "https://localhost:8080/"
        },
        "id": "OeWAl419pA0T",
        "outputId": "0168022c-f954-434f-bba8-7fec709ebabc"
      },
      "outputs": [
        {
          "output_type": "stream",
          "name": "stdout",
          "text": [
            " hello, world! \n",
            " HELLO, WORLD! \n",
            "Hello, World!\n",
            "[' Hello', ' World! ']\n",
            " Hi, World! \n",
            "8\n"
          ]
        }
      ],
      "source": [
        "# question 3\n",
        "# string and its operation\n",
        "str1 = \" Hello, World! \"\n",
        "print(str1.lower())\n",
        "print(str1.upper())\n",
        "print(str1.strip())\n",
        "print(str1.split(\",\"))\n",
        "print(str1.replace(\"Hello\", \"Hi\"))\n",
        "print(str1.find(\"World\"))\n"
      ]
    },
    {
      "cell_type": "code",
      "execution_count": null,
      "metadata": {
        "colab": {
          "base_uri": "https://localhost:8080/"
        },
        "id": "yB24qZBwB_Nh",
        "outputId": "7dd3f1d5-d769-4182-fe67-2eb72dea0af2"
      },
      "outputs": [
        {
          "output_type": "stream",
          "name": "stdout",
          "text": [
            " Hell\n",
            " World! \n",
            " Hell\n",
            "orld! \n",
            " el,Wr\n",
            " l,od\n",
            "orld!\n",
            " Hello,\n",
            " !dlroW ,olleH \n"
          ]
        }
      ],
      "source": [
        "# string slicing\n",
        "str1 = \" Hello, World! \"\n",
        "print(str1[0:5])\n",
        "print(str1[7:])\n",
        "print(str1[:5])\n",
        "print(str1[-6:])\n",
        "print(str1[0:11:2])\n",
        "print(str1[::3])\n",
        "print(str1[-6:-1])\n",
        "print(str1[:-8])\n",
        "print(str1[::-1])"
      ]
    },
    {
      "cell_type": "code",
      "source": [
        "# question 4\n",
        "str1 = 'hello world'\n",
        "str2 = 'hello'\n",
        "count2 = 0\n",
        "for i in str2:\n",
        "  for j in str1:\n",
        "    if j == i :\n",
        "      count2 +=1\n",
        "      break\n",
        "    else :\n",
        "      continue\n",
        "if count2 == len(str2):\n",
        "  print ('YES')\n",
        "else:\n",
        "  print ('NO')"
      ],
      "metadata": {
        "id": "QD-tQW50CVr4",
        "colab": {
          "base_uri": "https://localhost:8080/"
        },
        "outputId": "c0ce5e66-b849-4b34-dea2-c33c700ee655"
      },
      "execution_count": null,
      "outputs": [
        {
          "output_type": "stream",
          "name": "stdout",
          "text": [
            "YES\n"
          ]
        }
      ]
    },
    {
      "cell_type": "code",
      "source": [
        "# question 5 - list and its operation\n",
        "my_list = [1, 2, 3]\n",
        "my_list.append(4)\n",
        "print(my_list)\n",
        "my_list.extend([5, 6, 7])\n",
        "print(my_list)\n",
        "my_list.insert(2, 10)\n",
        "print(my_list)\n",
        "my_list.remove(4)\n",
        "print(my_list)\n",
        "item = my_list.pop(3)\n",
        "print(item)\n",
        "print(my_list)\n",
        "my_list.sort()\n",
        "print(my_list)\n",
        "my_list.reverse()\n",
        "print(my_list)\n",
        "my_list = [1, 2, 3, 4, 5]\n",
        "sub_list = my_list[1:4]\n",
        "print(sub_list)\n",
        "# Concatenation\n",
        "list1 = [1, 2, 3]\n",
        "list2 = [4, 5, 6]\n",
        "concatenated_list = list1 + list2\n",
        "print(concatenated_list)"
      ],
      "metadata": {
        "id": "u_B8iOyvIggk",
        "outputId": "24673e22-e752-496a-b478-8da3ed9f64bf",
        "colab": {
          "base_uri": "https://localhost:8080/"
        }
      },
      "execution_count": null,
      "outputs": [
        {
          "output_type": "stream",
          "name": "stdout",
          "text": [
            "[1, 2, 3, 4]\n",
            "[1, 2, 3, 4, 5, 6, 7]\n",
            "[1, 2, 10, 3, 4, 5, 6, 7]\n",
            "[1, 2, 10, 3, 5, 6, 7]\n",
            "3\n",
            "[1, 2, 10, 5, 6, 7]\n",
            "[1, 2, 5, 6, 7, 10]\n",
            "[10, 7, 6, 5, 2, 1]\n",
            "[2, 3, 4]\n",
            "[1, 2, 3, 4, 5, 6]\n"
          ]
        }
      ]
    },
    {
      "cell_type": "code",
      "source": [
        "# question 6 - postive and negative indexing\n",
        "my_list2 = [10, 20, 30, 40, 50]\n",
        "\n",
        "# Positive indexing\n",
        "print(my_list2[0])\n",
        "print(my_list2[2])\n",
        "print(my_list2[4])\n",
        "\n",
        "# Negative indexing\n",
        "print(my_list2[-1])\n",
        "print(my_list2[-3])\n",
        "print(my_list2[-5])"
      ],
      "metadata": {
        "id": "a5Mb6k8fJMGs",
        "colab": {
          "base_uri": "https://localhost:8080/"
        },
        "outputId": "cc9e1f9b-3c4c-49ab-99b7-01f244e919b1"
      },
      "execution_count": null,
      "outputs": [
        {
          "output_type": "stream",
          "name": "stdout",
          "text": [
            "10\n",
            "30\n",
            "50\n",
            "50\n",
            "30\n",
            "10\n"
          ]
        }
      ]
    },
    {
      "cell_type": "code",
      "source": [
        "# question 7\n",
        "new_list = list(map(int, input().split()))\n",
        "for i in range(len(new_list)-1):\n",
        "  if new_list[i] > new_list[i+1]:\n",
        "    print ('the list is not in ascending order')\n",
        "  else:\n",
        "    print ('the list is in ascending order')\n",
        "\n"
      ],
      "metadata": {
        "id": "Zvsh0jQMKGqe",
        "outputId": "b86db3d5-2d0f-47fb-bb8f-ee4db72b68f0",
        "colab": {
          "base_uri": "https://localhost:8080/"
        }
      },
      "execution_count": null,
      "outputs": [
        {
          "output_type": "stream",
          "name": "stdout",
          "text": [
            "2 3 4 5\n",
            "the list is in ascending order\n",
            "the list is in ascending order\n",
            "the list is in ascending order\n"
          ]
        }
      ]
    },
    {
      "cell_type": "code",
      "source": [
        "# question 8 - tuples and its operation\n",
        "tuple1 = (1, 2, 3, 4, 5)\n",
        "tuple2 = (6, 7, 8)\n",
        "\n",
        "# Concatenation\n",
        "tuple3 = tuple1 + tuple2\n",
        "print(tuple3)\n",
        "\n",
        "# Repetition\n",
        "tuple4 = tuple1 * 3\n",
        "print(tuple4)\n",
        "\n",
        "# Indexing\n",
        "print(tuple1[0])\n",
        "print(tuple1[-1])\n",
        "\n",
        "# Slicing\n",
        "print(tuple1[1:3])\n",
        "\n",
        "# Membership\n",
        "print(1 in tuple1)\n",
        "print(6 in tuple1)\n"
      ],
      "metadata": {
        "id": "cOEuPMVLQ3_p",
        "colab": {
          "base_uri": "https://localhost:8080/"
        },
        "outputId": "8c5e6850-46d4-4d64-db18-807044813734"
      },
      "execution_count": null,
      "outputs": [
        {
          "output_type": "stream",
          "name": "stdout",
          "text": [
            "(1, 2, 3, 4, 5, 6, 7, 8)\n",
            "(1, 2, 3, 4, 5, 1, 2, 3, 4, 5, 1, 2, 3, 4, 5)\n",
            "1\n",
            "5\n",
            "(2, 3)\n",
            "True\n",
            "False\n"
          ]
        }
      ]
    },
    {
      "cell_type": "code",
      "source": [
        "# question 9\n",
        "tuple_1 = tuple(map(str, input().split()))\n",
        "str_1 = ''\n",
        "for i in tuple_1:\n",
        "  str_1 = str_1 + i\n",
        "\n",
        "print (str_1)"
      ],
      "metadata": {
        "colab": {
          "base_uri": "https://localhost:8080/"
        },
        "id": "GfapvTkBHofz",
        "outputId": "08ee0b78-f8f9-40d3-946a-30cdf99da954"
      },
      "execution_count": null,
      "outputs": [
        {
          "output_type": "stream",
          "name": "stdout",
          "text": [
            "s t r i n g\n",
            "string\n"
          ]
        }
      ]
    },
    {
      "cell_type": "code",
      "source": [
        "# question 10\n",
        "tuple_2 = tuple(map(int , input().split()))\n",
        "new_tup = tuple_2[::-1]\n",
        "print (new_tup)\n"
      ],
      "metadata": {
        "colab": {
          "base_uri": "https://localhost:8080/"
        },
        "id": "KQo0tXXsJvVX",
        "outputId": "f8a98cc4-557f-467b-e4db-872762783151"
      },
      "execution_count": null,
      "outputs": [
        {
          "output_type": "stream",
          "name": "stdout",
          "text": [
            "2 3 4 5 6 \n",
            "(6, 5, 4, 3, 2)\n"
          ]
        }
      ]
    },
    {
      "cell_type": "code",
      "source": [
        "# question 11 - set and its operation\n",
        "set1 = {1, 2, 3, 4, 5}\n",
        "set2 = {2, 4, 6, 8}\n",
        "\n",
        "# Adding elements\n",
        "set1.add(6)\n",
        "set2.add(1)\n",
        "\n",
        "# Removing elements\n",
        "set1.remove(3)\n",
        "set2.remove(4)\n",
        "\n",
        "# Checking for membership\n",
        "print(1 in set1)\n",
        "print(7 in set1)\n",
        "\n",
        "# Set operations\n",
        "print(set1 | set2)\n",
        "print(set1 & set2)\n",
        "print(set1 - set2)\n",
        "print(set1 ^ set2)\n",
        "\n",
        "# isdisjoint\n",
        "print(set1.isdisjoint(set2))\n",
        "\n",
        "# issubset\n",
        "print(set1.issubset(set2))\n",
        "\n",
        "# issuperset\n",
        "print(set2.issuperset(set1))\n",
        "\n",
        "# pop\n",
        "print(set1.pop())\n",
        "\n",
        "# remove\n",
        "print(set1.remove(2))\n",
        "\n",
        "# clear\n",
        "set1.clear()\n",
        "print(set1)\n"
      ],
      "metadata": {
        "colab": {
          "base_uri": "https://localhost:8080/"
        },
        "id": "qStQiEquOqpM",
        "outputId": "7185d63c-f3ad-439c-a7e8-9c838131004c"
      },
      "execution_count": null,
      "outputs": [
        {
          "output_type": "stream",
          "name": "stdout",
          "text": [
            "True\n",
            "False\n",
            "{1, 2, 4, 5, 6, 8}\n",
            "{1, 2, 6}\n",
            "{4, 5}\n",
            "{4, 5, 8}\n",
            "False\n",
            "False\n",
            "False\n",
            "1\n",
            "None\n",
            "set()\n"
          ]
        }
      ]
    },
    {
      "cell_type": "code",
      "source": [
        "# question 12\n",
        "set1=set(map(int, input('enter set of values :').split()))\n",
        "subset=set(map(int, input('enter subset of values :').split()))\n",
        "print(subset.issubset(set1))\n",
        "# different method\n",
        "'''for item in subset:\n",
        "  if item not in set1:\n",
        "    print (\"it isn't subset\")\n",
        "    break\n",
        "\n",
        "  else:\n",
        "    print (\"it is subset\")'''"
      ],
      "metadata": {
        "colab": {
          "base_uri": "https://localhost:8080/",
          "height": 89
        },
        "id": "oU6wi6pyV54r",
        "outputId": "be717743-ded5-4a80-a195-aaac6d0dc7fd"
      },
      "execution_count": null,
      "outputs": [
        {
          "output_type": "stream",
          "name": "stdout",
          "text": [
            "enter set of values :2 3 4 5\n",
            "enter subset of values :2 3 5 6\n",
            "False\n"
          ]
        },
        {
          "output_type": "execute_result",
          "data": {
            "text/plain": [
              "'for item in subset:\\n  if item not in set1:\\n    print (\"it isn\\'t subset\")\\n    break\\n\\n  else:\\n    print (\"it is subset\")'"
            ],
            "application/vnd.google.colaboratory.intrinsic+json": {
              "type": "string"
            }
          },
          "metadata": {},
          "execution_count": 59
        }
      ]
    },
    {
      "cell_type": "code",
      "source": [
        "# question 13 - dictionaries and its operations\n",
        "dict = {\"key1\": \"value1\", \"key2\": \"value2\"}\n",
        "\n",
        "# Accessing elements\n",
        "print(dict[\"key1\"])\n",
        "\n",
        "# Adding elements\n",
        "dict.update({\"key3\": \"value3\"})\n",
        "# Removing elements\n",
        "dict.pop(\"key2\")\n",
        "# Checking for membership\n",
        "print(\"key2\" in dict)\n",
        "# Keys\n",
        "print(dict.keys())\n",
        "# Values\n",
        "print(dict.values())\n",
        "# Items\n",
        "print(dict.items())\n",
        "# Len\n",
        "print(len(dict))\n",
        "# Clear\n",
        "dict.clear()\n",
        "print(dict)\n",
        "\n",
        "\n"
      ],
      "metadata": {
        "id": "vRDPl8-cb1bw",
        "colab": {
          "base_uri": "https://localhost:8080/"
        },
        "outputId": "24abb1b0-05cb-43e1-8025-304463d2f5ef"
      },
      "execution_count": null,
      "outputs": [
        {
          "output_type": "stream",
          "name": "stdout",
          "text": [
            "value1\n",
            "False\n",
            "dict_keys(['key1', 'key3'])\n",
            "dict_values(['value1', 'value3'])\n",
            "dict_items([('key1', 'value1'), ('key3', 'value3')])\n",
            "2\n",
            "{}\n"
          ]
        }
      ]
    },
    {
      "cell_type": "code",
      "source": [
        "# question 14\n",
        "dict = {\"fruit1\": \"apple\", \"fruit2\": \"orange\"}\n",
        "\n",
        "\n",
        "for key in dict:\n",
        "  print(key, dict[key])\n",
        "\n",
        "\n",
        "for value in dict.values():\n",
        "  print(value)\n",
        "\n",
        "\n",
        "for key, value in dict.items():\n",
        "  print(key, value)\n",
        "\n"
      ],
      "metadata": {
        "id": "O3YAV8Y_exdi",
        "colab": {
          "base_uri": "https://localhost:8080/"
        },
        "outputId": "51e518f2-0112-4ed7-ce5f-373056d343d8"
      },
      "execution_count": null,
      "outputs": [
        {
          "output_type": "stream",
          "name": "stdout",
          "text": [
            "fruit1 apple\n",
            "fruit2 orange\n",
            "apple\n",
            "orange\n",
            "fruit1 apple\n",
            "fruit2 orange\n"
          ]
        }
      ]
    },
    {
      "cell_type": "code",
      "source": [
        "#question 15\n",
        "# compute using numpy\n",
        "\n",
        "''' to install numpy:-\n",
        "   -> pip install numpy   '''\n",
        "\n",
        "import numpy as np\n",
        "\n",
        "# 1D array\n",
        "arr_1d = np.array([1, 2, 3, 4, 5])\n",
        "print(arr_1d)\n",
        "\n",
        "# 2D array\n",
        "arr_2d = np.array([[1, 2, 3], [4, 5, 6]])\n",
        "print(arr_2d)\n",
        "\n",
        "# Initialize arrays of zeros and ones\n",
        "zeros_array = np.zeros((3, 4))\n",
        "ones_array = np.ones((2, 2))\n",
        "print(zeros_array)\n",
        "print(ones_array)\n",
        "\n",
        "# Create a range of values with linspace\n",
        "linspace_array = np.linspace(0, 10, 5)\n",
        "print(linspace_array)\n",
        "\n",
        "# Create a range of values with arange\n",
        "arange_array = np.arange(0, 10, 2)\n",
        "print(arange_array)"
      ],
      "metadata": {
        "id": "Ii6cLrqNspzN",
        "colab": {
          "base_uri": "https://localhost:8080/"
        },
        "outputId": "a90fa6e0-6a3e-4be0-c65a-a9130c210ec9"
      },
      "execution_count": null,
      "outputs": [
        {
          "output_type": "stream",
          "name": "stdout",
          "text": [
            "[1 2 3 4 5]\n",
            "[[1 2 3]\n",
            " [4 5 6]]\n",
            "[[0. 0. 0. 0.]\n",
            " [0. 0. 0. 0.]\n",
            " [0. 0. 0. 0.]]\n",
            "[[1. 1.]\n",
            " [1. 1.]]\n",
            "[ 0.   2.5  5.   7.5 10. ]\n",
            "[0 2 4 6 8]\n"
          ]
        }
      ]
    },
    {
      "cell_type": "code",
      "source": [
        "# question 16\n",
        "my_list = list(map(int,input('enter a list of numbers : ').split()))\n",
        "arr1 =np.array(my_list)\n",
        "arr1"
      ],
      "metadata": {
        "colab": {
          "base_uri": "https://localhost:8080/"
        },
        "id": "gRSZcQbbyiLc",
        "outputId": "66b25f24-de62-409a-87d4-c034fe0aa19e"
      },
      "execution_count": null,
      "outputs": [
        {
          "name": "stdout",
          "output_type": "stream",
          "text": [
            "enter a list of numbers : 2 4 5 6 7 8\n"
          ]
        },
        {
          "output_type": "execute_result",
          "data": {
            "text/plain": [
              "array([2, 4, 5, 6, 7, 8])"
            ]
          },
          "metadata": {},
          "execution_count": 10
        }
      ]
    },
    {
      "cell_type": "code",
      "source": [
        "# question 17\n",
        "my_list = list(map(int,input('enter a list of numbers : ').split()))\n",
        "arr1 =np.array(my_list)\n",
        "print(arr1)\n",
        "my_tup = tuple(map(int,input('enter a list of numbers : ').split()))\n",
        "arr2 =np.array(my_tup)\n",
        "print(arr2)"
      ],
      "metadata": {
        "colab": {
          "base_uri": "https://localhost:8080/"
        },
        "id": "LJM3mYo202Q2",
        "outputId": "844d5dd5-1e17-48d1-f9fb-29305a9a34c0"
      },
      "execution_count": null,
      "outputs": [
        {
          "output_type": "stream",
          "name": "stdout",
          "text": [
            "enter a list of numbers : 2 3 4 56 6 7\n",
            "[ 2  3  4 56  6  7]\n",
            "enter a list of numbers : 3 4 5 6 7 8 9\n",
            "[3 4 5 6 7 8 9]\n"
          ]
        }
      ]
    },
    {
      "cell_type": "code",
      "source": [
        "# question 18\n",
        "'''pip install pandas '''\n",
        "import pandas as pd\n",
        "# Creating a DataFrame from a dictionary\n",
        "data = {'Name': ['Alice', 'Bob', 'Charlie', 'David'],\n",
        "        'Age': [25, 30, 35, 28],\n",
        "        'City': ['New York', 'San Francisco', 'Los Angeles', 'Chicago']}\n",
        "\n",
        "df = pd.DataFrame(data)\n",
        "print(df)\n",
        "\n",
        "'''Creating a DataFrame from a CSV file\n",
        "df1 = pd.read_csv('data.csv')'''\n",
        "\n",
        "# Accessing columns\n",
        "print(df['Name'])\n",
        "print(df.Age)\n",
        "\n",
        "# Accessing rows\n",
        "print(df.loc[0])\n",
        "\n",
        "# Filtering data\n",
        "young_people = df[df['Age'] < 30]\n",
        "\n",
        "# Adding new columns\n",
        "df['Salary'] = [50000, 60000, 75000, 45000]\n",
        "\n",
        "# Removing columns\n",
        "df.drop('City', axis=1, inplace=True)\n",
        "\n",
        "# Renaming columns\n",
        "df.rename(columns={'Name': 'Full Name'}, inplace=True)\n",
        "\n",
        "# Handling missing values\n",
        "df.dropna(inplace=True)\n",
        "df.fillna(0, inplace=True)\n"
      ],
      "metadata": {
        "colab": {
          "base_uri": "https://localhost:8080/"
        },
        "id": "D_h7u-ds2DWE",
        "outputId": "c276816c-515b-4c27-ddc3-4bffd8876850"
      },
      "execution_count": null,
      "outputs": [
        {
          "output_type": "stream",
          "name": "stdout",
          "text": [
            "      Name  Age           City\n",
            "0    Alice   25       New York\n",
            "1      Bob   30  San Francisco\n",
            "2  Charlie   35    Los Angeles\n",
            "3    David   28        Chicago\n",
            "0      Alice\n",
            "1        Bob\n",
            "2    Charlie\n",
            "3      David\n",
            "Name: Name, dtype: object\n",
            "0    25\n",
            "1    30\n",
            "2    35\n",
            "3    28\n",
            "Name: Age, dtype: int64\n",
            "Name       Alice\n",
            "Age           25\n",
            "City    New York\n",
            "Name: 0, dtype: object\n"
          ]
        }
      ]
    },
    {
      "cell_type": "code",
      "source": [
        "# question 19\n",
        "arr1 =np.array([[1, 2], [3, 4], [5, 6]])\n",
        "df = pd.DataFrame(arr1)\n",
        "print(df)\n",
        "\n",
        "series1 = pd.Series([10, 20, 30, 40, 50])\n",
        "df2 = pd.DataFrame(series1)\n",
        "print(df2)"
      ],
      "metadata": {
        "colab": {
          "base_uri": "https://localhost:8080/"
        },
        "id": "8k67ktYA4pRe",
        "outputId": "37902e7b-029c-4227-ad7f-3b81b9fe320e"
      },
      "execution_count": null,
      "outputs": [
        {
          "output_type": "stream",
          "name": "stdout",
          "text": [
            "   0  1\n",
            "0  1  2\n",
            "1  3  4\n",
            "2  5  6\n",
            "    0\n",
            "0  10\n",
            "1  20\n",
            "2  30\n",
            "3  40\n",
            "4  50\n"
          ]
        }
      ]
    },
    {
      "cell_type": "code",
      "source": [
        "# question 20\n",
        "\n",
        "data1 = {'A': 10, 'B': 20, 'C': 30}\n",
        "series1 = pd.Series(data1)\n",
        "\n",
        "data2 = {'A': 5, 'B': 15, 'C': 25}\n",
        "series2 = pd.Series(data2)\n",
        "\n",
        "# Addition\n",
        "add_result = series1 + series2\n",
        "print(\"Addition Result:\")\n",
        "print(add_result)\n",
        "\n",
        "# Subtraction\n",
        "sub_result = series1 - series2\n",
        "print(\"\\nSubtraction Result:\")\n",
        "print(sub_result)\n",
        "\n",
        "# Multiplication\n",
        "mul_result = series1 * series2\n",
        "print(\"\\nMultiplication Result:\")\n",
        "print(mul_result)\n",
        "\n",
        "# Division\n",
        "div_result = series1 / series2\n",
        "print(\"\\nDivision Result:\")\n",
        "print(div_result)\n"
      ],
      "metadata": {
        "colab": {
          "base_uri": "https://localhost:8080/"
        },
        "id": "8dteC1ji6a7M",
        "outputId": "8afd8565-d844-4bbb-bfdb-29ff3c503978"
      },
      "execution_count": null,
      "outputs": [
        {
          "output_type": "stream",
          "name": "stdout",
          "text": [
            "Addition Result:\n",
            "A    15\n",
            "B    35\n",
            "C    55\n",
            "dtype: int64\n",
            "\n",
            "Subtraction Result:\n",
            "A    5\n",
            "B    5\n",
            "C    5\n",
            "dtype: int64\n",
            "\n",
            "Multiplication Result:\n",
            "A     50\n",
            "B    300\n",
            "C    750\n",
            "dtype: int64\n",
            "\n",
            "Division Result:\n",
            "A    2.000000\n",
            "B    1.333333\n",
            "C    1.200000\n",
            "dtype: float64\n"
          ]
        }
      ]
    },
    {
      "cell_type": "code",
      "source": [
        "# question 21\n",
        "\n",
        "# Sample data for the DataFrame\n",
        "data = {\n",
        "    'Name': ['Alice', 'Bob', 'Charlie', 'David'],\n",
        "    'Age': [25, 30, 35, 28],\n",
        "    'City': ['New York', 'San Francisco', 'Los Angeles', 'Chicago'],\n",
        "    'Salary': [50000, 60000, 75000, 45000]\n",
        "}\n",
        "\n",
        "df = pd.DataFrame(data)\n",
        "\n",
        "# Retrieving data from the DataFrame\n",
        "\n",
        "print(\"DataFrame:\")\n",
        "print(df)\n",
        "\n",
        "# Accessing specific columns\n",
        "print(\"\\nName Column:\")\n",
        "print(df['Name'])\n",
        "\n",
        "# Accessing multiple columns\n",
        "print(\"\\nName and Age Columns:\")\n",
        "print(df[['Name', 'Age']])\n",
        "\n",
        "# Accessing rows using loc\n",
        "print(\"\\nFirst Row using loc:\")\n",
        "print(df.loc[0])\n",
        "\n",
        "# Accessing specific rows and columns using loc\n",
        "print(\"\\nName and Age of the second row using loc:\")\n",
        "print(df.loc[1, ['Name', 'Age']])\n",
        "\n",
        "\n",
        "# Manipulating data in the DataFrame\n",
        "# Adding a new column\n",
        "df['Bonus'] = [2000, 3000, 2500, 1800]\n",
        "\n",
        "# Updating values in a column based on a condition\n",
        "df.loc[df['Age'] < 30, 'Bonus'] += 500\n",
        "\n",
        "# Removing a column\n",
        "df.drop('City', axis=1, inplace=True)\n",
        "\n",
        "# Filtering rows based on a condition\n",
        "young_employees = df[df['Age'] < 30]\n",
        "\n",
        "# Sorting the DataFrame by a column\n",
        "sorted_df = df.sort_values(by='Salary', ascending=False)\n",
        "\n",
        "# Aggregating data\n",
        "average_salary = df['Salary'].mean()\n",
        "\n",
        "# Printing the modified DataFrame\n",
        "print(\"\\nModified DataFrame:\")\n",
        "print(df)\n",
        "\n",
        "# Printing the young employees DataFrame\n",
        "print(\"\\nYoung Employees:\")\n",
        "print(young_employees)\n",
        "\n",
        "# Printing the sorted DataFrame\n",
        "print(\"\\nSorted DataFrame:\")\n",
        "print(sorted_df)\n",
        "\n",
        "# Printing the average salary\n",
        "print(\"\\nAverage Salary:\", average_salary)\n"
      ],
      "metadata": {
        "colab": {
          "base_uri": "https://localhost:8080/"
        },
        "id": "3DZkFJzR7Mnf",
        "outputId": "0b30205e-8769-490a-bbff-cc8b47804e3e"
      },
      "execution_count": null,
      "outputs": [
        {
          "output_type": "stream",
          "name": "stdout",
          "text": [
            "DataFrame:\n",
            "      Name  Age           City  Salary\n",
            "0    Alice   25       New York   50000\n",
            "1      Bob   30  San Francisco   60000\n",
            "2  Charlie   35    Los Angeles   75000\n",
            "3    David   28        Chicago   45000\n",
            "\n",
            "Name Column:\n",
            "0      Alice\n",
            "1        Bob\n",
            "2    Charlie\n",
            "3      David\n",
            "Name: Name, dtype: object\n",
            "\n",
            "Name and Age Columns:\n",
            "      Name  Age\n",
            "0    Alice   25\n",
            "1      Bob   30\n",
            "2  Charlie   35\n",
            "3    David   28\n",
            "\n",
            "First Row using loc:\n",
            "Name         Alice\n",
            "Age             25\n",
            "City      New York\n",
            "Salary       50000\n",
            "Name: 0, dtype: object\n",
            "\n",
            "Name and Age of the second row using loc:\n",
            "Name    Bob\n",
            "Age      30\n",
            "Name: 1, dtype: object\n",
            "\n",
            "Modified DataFrame:\n",
            "      Name  Age  Salary  Bonus\n",
            "0    Alice   25   50000   2500\n",
            "1      Bob   30   60000   3000\n",
            "2  Charlie   35   75000   2500\n",
            "3    David   28   45000   2300\n",
            "\n",
            "Young Employees:\n",
            "    Name  Age  Salary  Bonus\n",
            "0  Alice   25   50000   2500\n",
            "3  David   28   45000   2300\n",
            "\n",
            "Sorted DataFrame:\n",
            "      Name  Age  Salary  Bonus\n",
            "2  Charlie   35   75000   2500\n",
            "1      Bob   30   60000   3000\n",
            "0    Alice   25   50000   2500\n",
            "3    David   28   45000   2300\n",
            "\n",
            "Average Salary: 57500.0\n"
          ]
        }
      ]
    }
  ],
  "metadata": {
    "colab": {
      "provenance": [],
      "include_colab_link": true
    },
    "kernelspec": {
      "display_name": "Python 3",
      "name": "python3"
    },
    "language_info": {
      "name": "python"
    }
  },
  "nbformat": 4,
  "nbformat_minor": 0
}