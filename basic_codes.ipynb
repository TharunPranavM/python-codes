{
  "cells": [
    {
      "cell_type": "markdown",
      "metadata": {
        "id": "view-in-github",
        "colab_type": "text"
      },
      "source": [
        "<a href=\"https://colab.research.google.com/github/TharunPranavM/python-codes/blob/main/basic_codes.ipynb\" target=\"_parent\"><img src=\"https://colab.research.google.com/assets/colab-badge.svg\" alt=\"Open In Colab\"/></a>"
      ]
    },
    {
      "cell_type": "code",
      "execution_count": null,
      "metadata": {
        "colab": {
          "base_uri": "https://localhost:8080/"
        },
        "id": "Lq_e2lB9ZA0M",
        "outputId": "5ab82d4f-30d0-4d18-a5b6-ab108b4a1ad9"
      },
      "outputs": [
        {
          "output_type": "stream",
          "name": "stdout",
          "text": [
            "enter a number:212\n",
            " the num is even\n"
          ]
        }
      ],
      "source": [
        "# question 1\n",
        "# selection and iteration operators\n",
        "# selection operator\n",
        "num = int(input('enter a number:'))\n",
        "if num%2 == 0 :\n",
        "  print (' the num is even')\n",
        "else :\n",
        "  print ('the num is odd')"
      ]
    },
    {
      "cell_type": "code",
      "execution_count": null,
      "metadata": {
        "colab": {
          "base_uri": "https://localhost:8080/"
        },
        "id": "9ljkMcFbLz0G",
        "outputId": "856f8ec0-34f3-4ae7-ecce-e5cfd4f105ad"
      },
      "outputs": [
        {
          "output_type": "stream",
          "name": "stdout",
          "text": [
            "enter a num:2\n",
            "0\n",
            "1\n",
            "2\n",
            "2 3 4\n",
            "Sum: 9\n"
          ]
        }
      ],
      "source": [
        "#iteration operators - while and for\n",
        "num = int(input('enter a num:'))\n",
        "count = 0\n",
        "while count <= num:\n",
        "    print(count)\n",
        "    count += 1\n",
        "\n",
        "numbers = list(map(int , input().split()))\n",
        "sum = 0\n",
        "\n",
        "for num in numbers:\n",
        "    sum += num\n",
        "\n",
        "print(\"Sum:\", sum)"
      ]
    },
    {
      "cell_type": "code",
      "execution_count": null,
      "metadata": {
        "colab": {
          "base_uri": "https://localhost:8080/"
        },
        "id": "V8sc-HcxNcSy",
        "outputId": "ce18baaf-3f7f-406e-a4a7-4581974ee9d5"
      },
      "outputs": [
        {
          "output_type": "stream",
          "name": "stdout",
          "text": [
            "Enter a number: 212\n",
            "The number is a palindrome.\n"
          ]
        }
      ],
      "source": [
        "# question 2\n",
        "# odd or even\n",
        "num2 = int(input(\"Enter a number: \"))\n",
        "if num2 % 2 == 0 :\n",
        "  new = 0\n",
        "  real =num2\n",
        "  while num2 > 0:\n",
        "        digit = num2 % 10\n",
        "        new = new * 10 + digit\n",
        "        num2 = num2 // 10\n",
        "  if real == new:\n",
        "      print(\"The number is a palindrome.\")\n",
        "  else:\n",
        "      print(\"The number is not a palindrome.\")\n",
        "else :\n",
        "  a=0\n",
        "  b=1\n",
        "  count1 = 0\n",
        "  while count1 <= num2:\n",
        "    c = a+b\n",
        "    a = b\n",
        "    b = c\n",
        "    count1 += 1\n",
        "  print ('the factorial:',c)\n",
        "  print ('number digit factorial:',len(str(c)))\n",
        "\n",
        "\n"
      ]
    },
    {
      "cell_type": "code",
      "execution_count": null,
      "metadata": {
        "colab": {
          "base_uri": "https://localhost:8080/"
        },
        "id": "OeWAl419pA0T",
        "outputId": "0168022c-f954-434f-bba8-7fec709ebabc"
      },
      "outputs": [
        {
          "output_type": "stream",
          "name": "stdout",
          "text": [
            " hello, world! \n",
            " HELLO, WORLD! \n",
            "Hello, World!\n",
            "[' Hello', ' World! ']\n",
            " Hi, World! \n",
            "8\n"
          ]
        }
      ],
      "source": [
        "# question 3\n",
        "# string and its operation\n",
        "str1 = \" Hello, World! \"\n",
        "print(str1.lower())\n",
        "print(str1.upper())\n",
        "print(str1.strip())\n",
        "print(str1.split(\",\"))\n",
        "print(str1.replace(\"Hello\", \"Hi\"))\n",
        "print(str1.find(\"World\"))\n"
      ]
    },
    {
      "cell_type": "code",
      "execution_count": null,
      "metadata": {
        "colab": {
          "base_uri": "https://localhost:8080/"
        },
        "id": "yB24qZBwB_Nh",
        "outputId": "7dd3f1d5-d769-4182-fe67-2eb72dea0af2"
      },
      "outputs": [
        {
          "output_type": "stream",
          "name": "stdout",
          "text": [
            " Hell\n",
            " World! \n",
            " Hell\n",
            "orld! \n",
            " el,Wr\n",
            " l,od\n",
            "orld!\n",
            " Hello,\n",
            " !dlroW ,olleH \n"
          ]
        }
      ],
      "source": [
        "# string slicing\n",
        "str1 = \" Hello, World! \"\n",
        "print(str1[0:5])\n",
        "print(str1[7:])\n",
        "print(str1[:5])\n",
        "print(str1[-6:])\n",
        "print(str1[0:11:2])\n",
        "print(str1[::3])\n",
        "print(str1[-6:-1])\n",
        "print(str1[:-8])\n",
        "print(str1[::-1])"
      ]
    },
    {
      "cell_type": "code",
      "source": [
        "# question 4\n",
        "str1 = 'hello world'\n",
        "str2 = 'hello'\n",
        "count2 = 0\n",
        "for i in str2:\n",
        "  for j in str1:\n",
        "    if j == i :\n",
        "      count2 +=1\n",
        "      break\n",
        "    else :\n",
        "      continue\n",
        "if count2 == len(str2):\n",
        "  print ('YES')\n",
        "else:\n",
        "  print ('NO')"
      ],
      "metadata": {
        "id": "QD-tQW50CVr4",
        "colab": {
          "base_uri": "https://localhost:8080/"
        },
        "outputId": "c0ce5e66-b849-4b34-dea2-c33c700ee655"
      },
      "execution_count": null,
      "outputs": [
        {
          "output_type": "stream",
          "name": "stdout",
          "text": [
            "YES\n"
          ]
        }
      ]
    },
    {
      "cell_type": "code",
      "source": [
        "# question 5 - list and its operation\n",
        "my_list = [1, 2, 3]\n",
        "my_list.append(4)\n",
        "print(my_list)\n",
        "my_list.extend([5, 6, 7])\n",
        "print(my_list)\n",
        "my_list.insert(2, 10)\n",
        "print(my_list)\n",
        "my_list.remove(4)\n",
        "print(my_list)\n",
        "item = my_list.pop(3)\n",
        "print(item)\n",
        "print(my_list)\n",
        "my_list.sort()\n",
        "print(my_list)\n",
        "my_list.reverse()\n",
        "print(my_list)\n",
        "my_list = [1, 2, 3, 4, 5]\n",
        "sub_list = my_list[1:4]\n",
        "print(sub_list)\n",
        "# Concatenation\n",
        "list1 = [1, 2, 3]\n",
        "list2 = [4, 5, 6]\n",
        "concatenated_list = list1 + list2\n",
        "print(concatenated_list)"
      ],
      "metadata": {
        "id": "u_B8iOyvIggk",
        "outputId": "24673e22-e752-496a-b478-8da3ed9f64bf",
        "colab": {
          "base_uri": "https://localhost:8080/"
        }
      },
      "execution_count": null,
      "outputs": [
        {
          "output_type": "stream",
          "name": "stdout",
          "text": [
            "[1, 2, 3, 4]\n",
            "[1, 2, 3, 4, 5, 6, 7]\n",
            "[1, 2, 10, 3, 4, 5, 6, 7]\n",
            "[1, 2, 10, 3, 5, 6, 7]\n",
            "3\n",
            "[1, 2, 10, 5, 6, 7]\n",
            "[1, 2, 5, 6, 7, 10]\n",
            "[10, 7, 6, 5, 2, 1]\n",
            "[2, 3, 4]\n",
            "[1, 2, 3, 4, 5, 6]\n"
          ]
        }
      ]
    },
    {
      "cell_type": "code",
      "source": [
        "# question 6 - postive and negative indexing\n",
        "my_list2 = [10, 20, 30, 40, 50]\n",
        "\n",
        "# Positive indexing\n",
        "print(my_list2[0])\n",
        "print(my_list2[2])\n",
        "print(my_list2[4])\n",
        "\n",
        "# Negative indexing\n",
        "print(my_list2[-1])\n",
        "print(my_list2[-3])\n",
        "print(my_list2[-5])"
      ],
      "metadata": {
        "id": "a5Mb6k8fJMGs",
        "colab": {
          "base_uri": "https://localhost:8080/"
        },
        "outputId": "cc9e1f9b-3c4c-49ab-99b7-01f244e919b1"
      },
      "execution_count": null,
      "outputs": [
        {
          "output_type": "stream",
          "name": "stdout",
          "text": [
            "10\n",
            "30\n",
            "50\n",
            "50\n",
            "30\n",
            "10\n"
          ]
        }
      ]
    },
    {
      "cell_type": "code",
      "source": [
        "# question 7\n",
        "new_list = list(map(int, input().split()))\n",
        "for i in range(len(new_list)-1):\n",
        "  if new_list[i] > new_list[i+1]:\n",
        "    print ('the list is not in ascending order')\n",
        "  else:\n",
        "    print ('the list is in ascending order')\n",
        "\n"
      ],
      "metadata": {
        "id": "Zvsh0jQMKGqe",
        "outputId": "b86db3d5-2d0f-47fb-bb8f-ee4db72b68f0",
        "colab": {
          "base_uri": "https://localhost:8080/"
        }
      },
      "execution_count": null,
      "outputs": [
        {
          "output_type": "stream",
          "name": "stdout",
          "text": [
            "2 3 4 5\n",
            "the list is in ascending order\n",
            "the list is in ascending order\n",
            "the list is in ascending order\n"
          ]
        }
      ]
    },
    {
      "cell_type": "code",
      "source": [
        "# question 8 - tuples and its operation\n",
        "tuple1 = (1, 2, 3, 4, 5)\n",
        "tuple2 = (6, 7, 8)\n",
        "\n",
        "# Concatenation\n",
        "tuple3 = tuple1 + tuple2\n",
        "print(tuple3)\n",
        "\n",
        "# Repetition\n",
        "tuple4 = tuple1 * 3\n",
        "print(tuple4)\n",
        "\n",
        "# Indexing\n",
        "print(tuple1[0])\n",
        "print(tuple1[-1])\n",
        "\n",
        "# Slicing\n",
        "print(tuple1[1:3])\n",
        "\n",
        "# Membership\n",
        "print(1 in tuple1)\n",
        "print(6 in tuple1)\n"
      ],
      "metadata": {
        "id": "cOEuPMVLQ3_p",
        "colab": {
          "base_uri": "https://localhost:8080/"
        },
        "outputId": "8c5e6850-46d4-4d64-db18-807044813734"
      },
      "execution_count": null,
      "outputs": [
        {
          "output_type": "stream",
          "name": "stdout",
          "text": [
            "(1, 2, 3, 4, 5, 6, 7, 8)\n",
            "(1, 2, 3, 4, 5, 1, 2, 3, 4, 5, 1, 2, 3, 4, 5)\n",
            "1\n",
            "5\n",
            "(2, 3)\n",
            "True\n",
            "False\n"
          ]
        }
      ]
    },
    {
      "cell_type": "code",
      "source": [
        "# question 9\n",
        "tuple_1 = tuple(map(str, input().split()))\n",
        "str_1 = ''\n",
        "for i in tuple_1:\n",
        "  str_1 = str_1 + i\n",
        "\n",
        "print (str_1)"
      ],
      "metadata": {
        "colab": {
          "base_uri": "https://localhost:8080/"
        },
        "id": "GfapvTkBHofz",
        "outputId": "08ee0b78-f8f9-40d3-946a-30cdf99da954"
      },
      "execution_count": null,
      "outputs": [
        {
          "output_type": "stream",
          "name": "stdout",
          "text": [
            "s t r i n g\n",
            "string\n"
          ]
        }
      ]
    },
    {
      "cell_type": "code",
      "source": [
        "# question 10\n",
        "tuple_2 = tuple(map(int , input().split()))\n",
        "new_tup = tuple_2[::-1]\n",
        "print (new_tup)\n"
      ],
      "metadata": {
        "colab": {
          "base_uri": "https://localhost:8080/"
        },
        "id": "KQo0tXXsJvVX",
        "outputId": "f8a98cc4-557f-467b-e4db-872762783151"
      },
      "execution_count": null,
      "outputs": [
        {
          "output_type": "stream",
          "name": "stdout",
          "text": [
            "2 3 4 5 6 \n",
            "(6, 5, 4, 3, 2)\n"
          ]
        }
      ]
    },
    {
      "cell_type": "code",
      "source": [
        "# question 11 - set and its operation\n",
        "set1 = {1, 2, 3, 4, 5}\n",
        "set2 = {2, 4, 6, 8}\n",
        "\n",
        "# Adding elements\n",
        "set1.add(6)\n",
        "set2.add(1)\n",
        "\n",
        "# Removing elements\n",
        "set1.remove(3)\n",
        "set2.remove(4)\n",
        "\n",
        "# Checking for membership\n",
        "print(1 in set1)\n",
        "print(7 in set1)\n",
        "\n",
        "# Set operations\n",
        "print(set1 | set2)\n",
        "print(set1 & set2)\n",
        "print(set1 - set2)\n",
        "print(set1 ^ set2)\n",
        "\n",
        "# isdisjoint\n",
        "print(set1.isdisjoint(set2))\n",
        "\n",
        "# issubset\n",
        "print(set1.issubset(set2))\n",
        "\n",
        "# issuperset\n",
        "print(set2.issuperset(set1))\n",
        "\n",
        "# pop\n",
        "print(set1.pop())\n",
        "\n",
        "# remove\n",
        "print(set1.remove(2))\n",
        "\n",
        "# clear\n",
        "set1.clear()\n",
        "print(set1)\n"
      ],
      "metadata": {
        "colab": {
          "base_uri": "https://localhost:8080/"
        },
        "id": "qStQiEquOqpM",
        "outputId": "7185d63c-f3ad-439c-a7e8-9c838131004c"
      },
      "execution_count": null,
      "outputs": [
        {
          "output_type": "stream",
          "name": "stdout",
          "text": [
            "True\n",
            "False\n",
            "{1, 2, 4, 5, 6, 8}\n",
            "{1, 2, 6}\n",
            "{4, 5}\n",
            "{4, 5, 8}\n",
            "False\n",
            "False\n",
            "False\n",
            "1\n",
            "None\n",
            "set()\n"
          ]
        }
      ]
    },
    {
      "cell_type": "code",
      "source": [
        "# question 12\n",
        "set1=set(map(int, input('enter set of values :').split()))\n",
        "subset=set(map(int, input('enter subset of values :').split()))\n",
        "print(subset.issubset(set1))\n",
        "# different method\n",
        "'''for item in subset:\n",
        "  if item not in set1:\n",
        "    print (\"it isn't subset\")\n",
        "    break\n",
        "\n",
        "  else:\n",
        "    print (\"it is subset\")'''"
      ],
      "metadata": {
        "colab": {
          "base_uri": "https://localhost:8080/",
          "height": 89
        },
        "id": "oU6wi6pyV54r",
        "outputId": "be717743-ded5-4a80-a195-aaac6d0dc7fd"
      },
      "execution_count": null,
      "outputs": [
        {
          "output_type": "stream",
          "name": "stdout",
          "text": [
            "enter set of values :2 3 4 5\n",
            "enter subset of values :2 3 5 6\n",
            "False\n"
          ]
        },
        {
          "output_type": "execute_result",
          "data": {
            "text/plain": [
              "'for item in subset:\\n  if item not in set1:\\n    print (\"it isn\\'t subset\")\\n    break\\n\\n  else:\\n    print (\"it is subset\")'"
            ],
            "application/vnd.google.colaboratory.intrinsic+json": {
              "type": "string"
            }
          },
          "metadata": {},
          "execution_count": 59
        }
      ]
    },
    {
      "cell_type": "code",
      "source": [
        "# question 13 - dictionaries and its operations\n",
        "dict = {\"key1\": \"value1\", \"key2\": \"value2\"}\n",
        "\n",
        "# Accessing elements\n",
        "print(dict[\"key1\"])\n",
        "\n",
        "# Adding elements\n",
        "dict.update({\"key3\": \"value3\"})\n",
        "# Removing elements\n",
        "dict.pop(\"key2\")\n",
        "# Checking for membership\n",
        "print(\"key2\" in dict)\n",
        "# Keys\n",
        "print(dict.keys())\n",
        "# Values\n",
        "print(dict.values())\n",
        "# Items\n",
        "print(dict.items())\n",
        "# Len\n",
        "print(len(dict))\n",
        "# Clear\n",
        "dict.clear()\n",
        "print(dict)\n",
        "\n",
        "\n"
      ],
      "metadata": {
        "id": "vRDPl8-cb1bw",
        "colab": {
          "base_uri": "https://localhost:8080/"
        },
        "outputId": "24abb1b0-05cb-43e1-8025-304463d2f5ef"
      },
      "execution_count": null,
      "outputs": [
        {
          "output_type": "stream",
          "name": "stdout",
          "text": [
            "value1\n",
            "False\n",
            "dict_keys(['key1', 'key3'])\n",
            "dict_values(['value1', 'value3'])\n",
            "dict_items([('key1', 'value1'), ('key3', 'value3')])\n",
            "2\n",
            "{}\n"
          ]
        }
      ]
    },
    {
      "cell_type": "code",
      "source": [
        "# question 14\n",
        "dict = {\"fruit1\": \"apple\", \"fruit2\": \"orange\"}\n",
        "\n",
        "\n",
        "for key in dict:\n",
        "  print(key, dict[key])\n",
        "\n",
        "\n",
        "for value in dict.values():\n",
        "  print(value)\n",
        "\n",
        "\n",
        "for key, value in dict.items():\n",
        "  print(key, value)\n",
        "\n"
      ],
      "metadata": {
        "id": "O3YAV8Y_exdi",
        "colab": {
          "base_uri": "https://localhost:8080/"
        },
        "outputId": "51e518f2-0112-4ed7-ce5f-373056d343d8"
      },
      "execution_count": null,
      "outputs": [
        {
          "output_type": "stream",
          "name": "stdout",
          "text": [
            "fruit1 apple\n",
            "fruit2 orange\n",
            "apple\n",
            "orange\n",
            "fruit1 apple\n",
            "fruit2 orange\n"
          ]
        }
      ]
    }
  ],
  "metadata": {
    "colab": {
      "provenance": [],
      "include_colab_link": true
    },
    "kernelspec": {
      "display_name": "Python 3",
      "name": "python3"
    },
    "language_info": {
      "name": "python"
    }
  },
  "nbformat": 4,
  "nbformat_minor": 0
}